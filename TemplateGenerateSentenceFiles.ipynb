{
  "nbformat": 4,
  "nbformat_minor": 0,
  "metadata": {
    "colab": {
      "provenance": [],
      "authorship_tag": "ABX9TyMxMOwkh8Qz5HnCNJ5Zabku",
      "include_colab_link": true
    },
    "kernelspec": {
      "name": "python3",
      "display_name": "Python 3"
    },
    "language_info": {
      "name": "python"
    }
  },
  "cells": [
    {
      "cell_type": "markdown",
      "metadata": {
        "id": "view-in-github",
        "colab_type": "text"
      },
      "source": [
        "<a href=\"https://colab.research.google.com/github/BillWorstell/TruthInTranslation/blob/main/TemplateGenerateSentenceFiles.ipynb\" target=\"_parent\"><img src=\"https://colab.research.google.com/assets/colab-badge.svg\" alt=\"Open In Colab\"/></a>"
      ]
    },
    {
      "cell_type": "markdown",
      "source": [
        "# AI-Based Sentence Segmentation & Alignment: Akan ↔ English\n"
      ],
      "metadata": {
        "id": "2SMRqDy16FiE"
      }
    },
    {
      "cell_type": "markdown",
      "source": [
        "## Overview\n",
        "This notebook demonstrates how to:\n",
        "1. Read two **raw** text files: `akan_text_raw.txt` and `english_text_raw.txt`.\n",
        "2. Use **OpenAI's ChatGPT** (via Python API) to:\n",
        "   - Segment the Akan text into separate lines (sentences/phrases).\n",
        "   - Segment the English text similarly.\n",
        "   - Attempt to align them, so each Akan line corresponds to the matching English line.\n",
        "3. Write the result into a **2-column Excel file** (`AkanEnglishAligned.xlsx`).\n"
      ],
      "metadata": {
        "id": "grNlj9Oq6O4J"
      }
    },
    {
      "cell_type": "markdown",
      "source": [
        "## Ensure you have the OpenAI Python library installed (pip install openai) and access to an OpenAI API key."
      ],
      "metadata": {
        "id": "umyKpQGCiF6w"
      }
    },
    {
      "cell_type": "code",
      "source": [
        "#!pip install openai\n",
        "!pip install openai==0.28\n",
        "!pip install xlsxwriter"
      ],
      "metadata": {
        "colab": {
          "base_uri": "https://localhost:8080/"
        },
        "outputId": "5316c117-87ca-49ba-a5c8-21ae3340747f",
        "id": "uSAK4JgdgzHn"
      },
      "execution_count": null,
      "outputs": [
        {
          "output_type": "stream",
          "name": "stdout",
          "text": [
            "Requirement already satisfied: openai==0.28 in /usr/local/lib/python3.11/dist-packages (0.28.0)\n",
            "Requirement already satisfied: requests>=2.20 in /usr/local/lib/python3.11/dist-packages (from openai==0.28) (2.32.3)\n",
            "Requirement already satisfied: tqdm in /usr/local/lib/python3.11/dist-packages (from openai==0.28) (4.67.1)\n",
            "Requirement already satisfied: aiohttp in /usr/local/lib/python3.11/dist-packages (from openai==0.28) (3.11.12)\n",
            "Requirement already satisfied: charset-normalizer<4,>=2 in /usr/local/lib/python3.11/dist-packages (from requests>=2.20->openai==0.28) (3.4.1)\n",
            "Requirement already satisfied: idna<4,>=2.5 in /usr/local/lib/python3.11/dist-packages (from requests>=2.20->openai==0.28) (3.10)\n",
            "Requirement already satisfied: urllib3<3,>=1.21.1 in /usr/local/lib/python3.11/dist-packages (from requests>=2.20->openai==0.28) (2.3.0)\n",
            "Requirement already satisfied: certifi>=2017.4.17 in /usr/local/lib/python3.11/dist-packages (from requests>=2.20->openai==0.28) (2025.1.31)\n",
            "Requirement already satisfied: aiohappyeyeballs>=2.3.0 in /usr/local/lib/python3.11/dist-packages (from aiohttp->openai==0.28) (2.4.6)\n",
            "Requirement already satisfied: aiosignal>=1.1.2 in /usr/local/lib/python3.11/dist-packages (from aiohttp->openai==0.28) (1.3.2)\n",
            "Requirement already satisfied: attrs>=17.3.0 in /usr/local/lib/python3.11/dist-packages (from aiohttp->openai==0.28) (25.1.0)\n",
            "Requirement already satisfied: frozenlist>=1.1.1 in /usr/local/lib/python3.11/dist-packages (from aiohttp->openai==0.28) (1.5.0)\n",
            "Requirement already satisfied: multidict<7.0,>=4.5 in /usr/local/lib/python3.11/dist-packages (from aiohttp->openai==0.28) (6.1.0)\n",
            "Requirement already satisfied: propcache>=0.2.0 in /usr/local/lib/python3.11/dist-packages (from aiohttp->openai==0.28) (0.2.1)\n",
            "Requirement already satisfied: yarl<2.0,>=1.17.0 in /usr/local/lib/python3.11/dist-packages (from aiohttp->openai==0.28) (1.18.3)\n",
            "Requirement already satisfied: xlsxwriter in /usr/local/lib/python3.11/dist-packages (3.2.2)\n"
          ]
        }
      ]
    },
    {
      "cell_type": "code",
      "source": [
        "import openai\n",
        "\n",
        openai.api_key = \"YOUR_OPENAI_API_KEY\"\n",
      ],
      "metadata": {
        "id": "3KXvSK5kaRCe"
      },
      "execution_count": null,
      "outputs": []
    },
    {
      "cell_type": "markdown",
      "source": [
        "##Mount Google Drive"
      ],
      "metadata": {
        "id": "rtiTuFEk6ND7"
      }
    },
    {
      "cell_type": "code",
      "source": [
        "from google.colab import drive\n",
        "drive.mount('/content/drive')"
      ],
      "metadata": {
        "colab": {
          "base_uri": "https://localhost:8080/"
        },
        "id": "VDgu4fV06Q2F",
        "outputId": "3f77b90b-e5b3-4b33-a51d-bda2331cc12c"
      },
      "execution_count": null,
      "outputs": [
        {
          "output_type": "stream",
          "name": "stdout",
          "text": [
            "Drive already mounted at /content/drive; to attempt to forcibly remount, call drive.mount(\"/content/drive\", force_remount=True).\n"
          ]
        }
      ]
    },
    {
      "cell_type": "markdown",
      "source": [
        "## Specify Input File and Output File"
      ],
      "metadata": {
        "id": "jlQPQIM-VWjJ"
      }
    },
    {
      "cell_type": "code",
      "source": [
        "input_akan_file = \"/content/drive/My Drive/TruthInTranslation/Akan/Ananse00/Akan.txt\"\n",
        "input_english_file = \"/content/drive/My Drive/TruthInTranslation/Akan/Ananse00/English.txt\"\n",
        "output_file = \"/content/drive/My Drive/TruthInTranslation/Akan/Ananse00/AkanEnglishAligned.xlsx\""
      ],
      "metadata": {
        "id": "o5I-cIMjVcxR"
      },
      "execution_count": null,
      "outputs": []
    },
    {
      "cell_type": "markdown",
      "source": [
        "## Generate Output File"
      ],
      "metadata": {
        "id": "0HWp96cfWEiW"
      }
    },
    {
      "cell_type": "code",
      "source": [
        "# =============================\n",
        "# 1) Necessary Imports\n",
        "# =============================\n",
        "import openai\n",
        "import pandas as pd\n",
        "import json\n",
        "\n",
        "# If running in a local environment or Colab, make sure\n",
        "# you have installed openai:\n",
        "#   pip install openai\n",
        "# and your environment is set up for data I/O (e.g., pandas).\n"
      ],
      "metadata": {
        "id": "v9WRQMWC7AIk"
      },
      "execution_count": null,
      "outputs": []
    },
    {
      "cell_type": "markdown",
      "source": [
        "## 2) Provide Your OpenAI API Key\n",
        "If you prefer, load it from an environment variable or a secrets manager. For demonstration, we’ll just set it as a variable here.\n"
      ],
      "metadata": {
        "id": "_NycsGGA7Hxd"
      }
    },
    {
      "cell_type": "code",
      "source": [
        "#openai.api_key = \"YOUR_OPENAI_API_KEY\"  # <-- Replace with your actual key\n"
      ],
      "metadata": {
        "id": "GjWw1nGx7gnH"
      },
      "execution_count": null,
      "outputs": []
    },
    {
      "cell_type": "markdown",
      "source": [
        "## 3) Define File Paths\n",
        "Adjust these paths according to where your files are located.\n"
      ],
      "metadata": {
        "id": "MFMGR3Lc7qf6"
      }
    },
    {
      "cell_type": "code",
      "source": [
        "#akan_file_path = \"akan_text_raw.txt\"\n",
        "akan_file_path = input_akan_file\n",
        "#english_file_path = \"english_text_raw.txt\"\n",
        "english_file_path = input_english_file\n",
        "#output_excel_path = \"AkanEnglishAligned.xlsx\"\n",
        "output_excel_path = output_file"
      ],
      "metadata": {
        "id": "ueE1gQaT7xa8"
      },
      "execution_count": null,
      "outputs": []
    },
    {
      "cell_type": "markdown",
      "source": [
        "## 4) Read the Raw Text from Files\n",
        "We read the entire Akan text and English text. We'll feed them to GPT in a prompt that requests segmentation and alignment.\n"
      ],
      "metadata": {
        "id": "_C5acjf377ua"
      }
    },
    {
      "cell_type": "code",
      "source": [
        "with open(akan_file_path, \"r\", encoding=\"utf-8\") as f_akan:\n",
        "    akan_text = f_akan.read()\n",
        "\n",
        "with open(english_file_path, \"r\", encoding=\"utf-8\") as f_eng:\n",
        "    english_text = f_eng.read()\n",
        "\n",
        "print(\"Loaded Akan text length:\", len(akan_text))\n",
        "print(\"Loaded English text length:\", len(english_text))\n"
      ],
      "metadata": {
        "colab": {
          "base_uri": "https://localhost:8080/"
        },
        "id": "JUjWKxM08A1n",
        "outputId": "5929fbc4-dea1-40cb-d9b5-56da582333f9"
      },
      "execution_count": null,
      "outputs": [
        {
          "output_type": "stream",
          "name": "stdout",
          "text": [
            "Loaded Akan text length: 1109\n",
            "Loaded English text length: 1985\n"
          ]
        }
      ]
    },
    {
      "cell_type": "markdown",
      "source": [
        "## 5) Build a Prompt for GPT to Segment and Align\n",
        "We’ll ask GPT to:\n",
        "- Break the Akan text into an ordered list of sentences.\n",
        "- Break the English text into an ordered list of sentences.\n",
        "- Attempt to align them: produce a JSON array of objects, each with \"akan\" and \"english\" keys.\n"
      ],
      "metadata": {
        "id": "5QzT3U0G8FXm"
      }
    },
    {
      "cell_type": "markdown",
      "source": [
        "Here’s a **fixed** version of that cell. The main issue was that the code blocks (```` ```akan … ``` ```` and ```` ```english … ``` ````) weren’t properly closed in the f‑string. Just make sure each triple‑backtick section is matched. Also note you can place everything in the multiline string **including** the final instruction—Python allows that as long as the triple quotes line up.\n",
        "\n",
        "```python\n",
        "system_instructions = (\n",
        "    \"You are a helpful bilingual assistant for Akan and English. \"\n",
        "    \"Given two blocks of text, each in Akan or English, segment them \"\n",
        "    \"into corresponding lines and align them carefully. If one language \"\n",
        "    \"has more or fewer sentences, do your best to match them accurately. \"\n",
        "    \"Return valid JSON only, following the specified format.\"\n",
        ")\n",
        "\n",
        "user_prompt = f\"\"\"\n",
        "Segment and align the following two texts into matching sentences.\n",
        "\n",
        "Akan text:\n",
        "```akan\n",
        "{akan_text}\n",
        "```\n",
        "\n",
        "English text:\n",
        "```english\n",
        "{english_text}\n",
        "```\n",
        "\n",
        "Return your answer as valid JSON in the following format:\n",
        "[\n",
        "  {{\"akan\": \"...\", \"english\": \"...\"}},\n",
        "  {{\"akan\": \"...\", \"english\": \"...\"}}\n",
        "]\n",
        "No extra commentary or explanation—JSON only.\n",
        "\"\"\"\n",
        "\n",
        "response = openai.ChatCompletion.create(\n",
        "    model=\"gpt-4\",  # or 'gpt-3.5-turbo'\n",
        "    messages=[\n",
        "        {\"role\": \"system\", \"content\": system_instructions},\n",
        "        {\"role\": \"user\", \"content\": user_prompt},\n",
        "    ],\n",
        "    temperature=0  # zero-temperature for more deterministic output\n",
        ")\n",
        "\n",
        "aligned_json = response[\"choices\"][0][\"message\"][\"content\"]\n",
        "```\n",
        "\n",
        "**Key Fixes:**\n",
        "\n",
        "1. **Closed each triple-backtick code fence**:\n",
        "   ```akan ...``` needed a closing ```,  \n",
        "   ```english ...``` needed a closing ``` as well.\n",
        "\n",
        "2. Placed all text (including instructions for JSON format) **inside** the `f\"\"\" ... \"\"\"` block.\n",
        "\n",
        "With these changes, Python should parse the multiline string correctly, and ChatGPT should receive the properly formatted prompt."
      ],
      "metadata": {
        "id": "D34l9hBMEWQD"
      }
    },
    {
      "cell_type": "code",
      "source": [
        "system_instructions = (\n",
        "    \"You are a helpful bilingual assistant for Akan and English. \"\n",
        "    \"Given two blocks of text, each in Akan or English, segment them \"\n",
        "    \"into corresponding lines and align them carefully. If one language \"\n",
        "    \"has more or fewer sentences, do your best to match them accurately. \"\n",
        "    \"Return valid JSON only, following the specified format.\"\n",
        ")\n",
        "\n",
        "user_prompt = f\"\"\"\n",
        "Segment and align the following two texts into matching sentences.\n",
        "\n",
        "Akan text:\n",
        "```akan\n",
        "{akan_text}\n",
        "```\n",
        "\n",
        "English text:\n",
        "```english\n",
        "{english_text}\n",
        "```\n",
        "\n",
        "Return your answer as valid JSON in the following format:\n",
        "[\n",
        "  {{\"akan\": \"...\", \"english\": \"...\"}},\n",
        "  {{\"akan\": \"...\", \"english\": \"...\"}}\n",
        "]\n",
        "No extra commentary or explanation—JSON only.\n",
        "\"\"\"\n",
        "\n",
        "response = openai.ChatCompletion.create(\n",
        "    model=\"gpt-4\",  # or 'gpt-3.5-turbo'\n",
        "    messages=[\n",
        "        {\"role\": \"system\", \"content\": system_instructions},\n",
        "        {\"role\": \"user\", \"content\": user_prompt},\n",
        "    ],\n",
        "    temperature=0  # zero-temperature for more deterministic output\n",
        ")\n",
        "\n",
        "aligned_json = response[\"choices\"][0][\"message\"][\"content\"]\n",
        "try:\n",
        "    aligned_data = json.loads(aligned_json)\n",
        "except json.JSONDecodeError:\n",
        "    print(\"Error: GPT did not return valid JSON. Check the output.\")\n",
        "    aligned_data = []\n",
        "\n",
        "# Let's see how many pairs we got\n",
        "print(f\"Number of aligned sentence pairs: {len(aligned_data)}\")\n"
      ],
      "metadata": {
        "colab": {
          "base_uri": "https://localhost:8080/"
        },
        "id": "4hRZLkGCEM2S",
        "outputId": "fb2c35a3-e290-417e-8b4c-4c192348d881"
      },
      "execution_count": null,
      "outputs": [
        {
          "output_type": "stream",
          "name": "stdout",
          "text": [
            "Number of aligned sentence pairs: 13\n"
          ]
        }
      ]
    },
    {
      "cell_type": "markdown",
      "source": [
        "## 7) Convert to Pandas DataFrame and Export to Excel\n",
        "We create a DataFrame with columns \"AKAN\" and \"ENGLISH\", then save it to an Excel file.\n"
      ],
      "metadata": {
        "id": "0n_cum-k9P-L"
      }
    },
    {
      "cell_type": "code",
      "source": [
        "df_aligned = pd.DataFrame(aligned_data, columns=[\"akan\", \"english\"])\n",
        "\n",
        "# Rename columns for clarity\n",
        "df_aligned.rename(columns={\"akan\": \"AKAN\", \"english\": \"ENGLISH\"}, inplace=True)\n",
        "\n",
        "df_aligned.to_excel(output_excel_path, index=False)\n",
        "print(f\"Saved aligned data to {output_excel_path}\")\n",
        "df_aligned.head()\n"
      ],
      "metadata": {
        "colab": {
          "base_uri": "https://localhost:8080/",
          "height": 224
        },
        "id": "-ijVcyIM9Tgm",
        "outputId": "5686b9d7-44c0-4534-9685-4a177d097414"
      },
      "execution_count": null,
      "outputs": [
        {
          "output_type": "stream",
          "name": "stdout",
          "text": [
            "Saved aligned data to /content/drive/My Drive/TruthInTranslation/Akan/Ananse00/AkanEnglishAligned.xlsx\n"
          ]
        },
        {
          "output_type": "execute_result",
          "data": {
            "text/plain": [
              "                                                AKAN  \\\n",
              "0                        SE 'YOYE A NYANSA BA OMANM'   \n",
              "1  YE se Kwaku Ananse na owo ho, na oprapraa nyan...   \n",
              "2  Ose ode foro dua ako sen so, na nyansa nnyina ...   \n",
              "3  Na omaa so se ode koro, na oko duruu dua a, od...   \n",
              "4  Oforo, foro, foro a, twon ! Na ode aka no bio,...   \n",
              "\n",
              "                                             ENGLISH  \n",
              "0  HOW IT CAME ABOUT THAT WISDOM CAME AMONG THE T...  \n",
              "1  THEY say that Kwaku, the Spider, was there, an...  \n",
              "2  He then declared that he would climb a tree an...  \n",
              "3  So he took it up to go with it, and when he re...  \n",
              "4  He climbed, and climbed, and climbed; in vain....  "
            ],
            "text/html": [
              "\n",
              "  <div id=\"df-eefe333f-c547-4ba0-9e67-6faa24815f72\" class=\"colab-df-container\">\n",
              "    <div>\n",
              "<style scoped>\n",
              "    .dataframe tbody tr th:only-of-type {\n",
              "        vertical-align: middle;\n",
              "    }\n",
              "\n",
              "    .dataframe tbody tr th {\n",
              "        vertical-align: top;\n",
              "    }\n",
              "\n",
              "    .dataframe thead th {\n",
              "        text-align: right;\n",
              "    }\n",
              "</style>\n",
              "<table border=\"1\" class=\"dataframe\">\n",
              "  <thead>\n",
              "    <tr style=\"text-align: right;\">\n",
              "      <th></th>\n",
              "      <th>AKAN</th>\n",
              "      <th>ENGLISH</th>\n",
              "    </tr>\n",
              "  </thead>\n",
              "  <tbody>\n",
              "    <tr>\n",
              "      <th>0</th>\n",
              "      <td>SE 'YOYE A NYANSA BA OMANM'</td>\n",
              "      <td>HOW IT CAME ABOUT THAT WISDOM CAME AMONG THE T...</td>\n",
              "    </tr>\n",
              "    <tr>\n",
              "      <th>1</th>\n",
              "      <td>YE se Kwaku Ananse na owo ho, na oprapraa nyan...</td>\n",
              "      <td>THEY say that Kwaku, the Spider, was there, an...</td>\n",
              "    </tr>\n",
              "    <tr>\n",
              "      <th>2</th>\n",
              "      <td>Ose ode foro dua ako sen so, na nyansa nnyina ...</td>\n",
              "      <td>He then declared that he would climb a tree an...</td>\n",
              "    </tr>\n",
              "    <tr>\n",
              "      <th>3</th>\n",
              "      <td>Na omaa so se ode koro, na oko duruu dua a, od...</td>\n",
              "      <td>So he took it up to go with it, and when he re...</td>\n",
              "    </tr>\n",
              "    <tr>\n",
              "      <th>4</th>\n",
              "      <td>Oforo, foro, foro a, twon ! Na ode aka no bio,...</td>\n",
              "      <td>He climbed, and climbed, and climbed; in vain....</td>\n",
              "    </tr>\n",
              "  </tbody>\n",
              "</table>\n",
              "</div>\n",
              "    <div class=\"colab-df-buttons\">\n",
              "\n",
              "  <div class=\"colab-df-container\">\n",
              "    <button class=\"colab-df-convert\" onclick=\"convertToInteractive('df-eefe333f-c547-4ba0-9e67-6faa24815f72')\"\n",
              "            title=\"Convert this dataframe to an interactive table.\"\n",
              "            style=\"display:none;\">\n",
              "\n",
              "  <svg xmlns=\"http://www.w3.org/2000/svg\" height=\"24px\" viewBox=\"0 -960 960 960\">\n",
              "    <path d=\"M120-120v-720h720v720H120Zm60-500h600v-160H180v160Zm220 220h160v-160H400v160Zm0 220h160v-160H400v160ZM180-400h160v-160H180v160Zm440 0h160v-160H620v160ZM180-180h160v-160H180v160Zm440 0h160v-160H620v160Z\"/>\n",
              "  </svg>\n",
              "    </button>\n",
              "\n",
              "  <style>\n",
              "    .colab-df-container {\n",
              "      display:flex;\n",
              "      gap: 12px;\n",
              "    }\n",
              "\n",
              "    .colab-df-convert {\n",
              "      background-color: #E8F0FE;\n",
              "      border: none;\n",
              "      border-radius: 50%;\n",
              "      cursor: pointer;\n",
              "      display: none;\n",
              "      fill: #1967D2;\n",
              "      height: 32px;\n",
              "      padding: 0 0 0 0;\n",
              "      width: 32px;\n",
              "    }\n",
              "\n",
              "    .colab-df-convert:hover {\n",
              "      background-color: #E2EBFA;\n",
              "      box-shadow: 0px 1px 2px rgba(60, 64, 67, 0.3), 0px 1px 3px 1px rgba(60, 64, 67, 0.15);\n",
              "      fill: #174EA6;\n",
              "    }\n",
              "\n",
              "    .colab-df-buttons div {\n",
              "      margin-bottom: 4px;\n",
              "    }\n",
              "\n",
              "    [theme=dark] .colab-df-convert {\n",
              "      background-color: #3B4455;\n",
              "      fill: #D2E3FC;\n",
              "    }\n",
              "\n",
              "    [theme=dark] .colab-df-convert:hover {\n",
              "      background-color: #434B5C;\n",
              "      box-shadow: 0px 1px 3px 1px rgba(0, 0, 0, 0.15);\n",
              "      filter: drop-shadow(0px 1px 2px rgba(0, 0, 0, 0.3));\n",
              "      fill: #FFFFFF;\n",
              "    }\n",
              "  </style>\n",
              "\n",
              "    <script>\n",
              "      const buttonEl =\n",
              "        document.querySelector('#df-eefe333f-c547-4ba0-9e67-6faa24815f72 button.colab-df-convert');\n",
              "      buttonEl.style.display =\n",
              "        google.colab.kernel.accessAllowed ? 'block' : 'none';\n",
              "\n",
              "      async function convertToInteractive(key) {\n",
              "        const element = document.querySelector('#df-eefe333f-c547-4ba0-9e67-6faa24815f72');\n",
              "        const dataTable =\n",
              "          await google.colab.kernel.invokeFunction('convertToInteractive',\n",
              "                                                    [key], {});\n",
              "        if (!dataTable) return;\n",
              "\n",
              "        const docLinkHtml = 'Like what you see? Visit the ' +\n",
              "          '<a target=\"_blank\" href=https://colab.research.google.com/notebooks/data_table.ipynb>data table notebook</a>'\n",
              "          + ' to learn more about interactive tables.';\n",
              "        element.innerHTML = '';\n",
              "        dataTable['output_type'] = 'display_data';\n",
              "        await google.colab.output.renderOutput(dataTable, element);\n",
              "        const docLink = document.createElement('div');\n",
              "        docLink.innerHTML = docLinkHtml;\n",
              "        element.appendChild(docLink);\n",
              "      }\n",
              "    </script>\n",
              "  </div>\n",
              "\n",
              "\n",
              "<div id=\"df-33a8ad7d-f2a6-4397-8639-f3461a825c80\">\n",
              "  <button class=\"colab-df-quickchart\" onclick=\"quickchart('df-33a8ad7d-f2a6-4397-8639-f3461a825c80')\"\n",
              "            title=\"Suggest charts\"\n",
              "            style=\"display:none;\">\n",
              "\n",
              "<svg xmlns=\"http://www.w3.org/2000/svg\" height=\"24px\"viewBox=\"0 0 24 24\"\n",
              "     width=\"24px\">\n",
              "    <g>\n",
              "        <path d=\"M19 3H5c-1.1 0-2 .9-2 2v14c0 1.1.9 2 2 2h14c1.1 0 2-.9 2-2V5c0-1.1-.9-2-2-2zM9 17H7v-7h2v7zm4 0h-2V7h2v10zm4 0h-2v-4h2v4z\"/>\n",
              "    </g>\n",
              "</svg>\n",
              "  </button>\n",
              "\n",
              "<style>\n",
              "  .colab-df-quickchart {\n",
              "      --bg-color: #E8F0FE;\n",
              "      --fill-color: #1967D2;\n",
              "      --hover-bg-color: #E2EBFA;\n",
              "      --hover-fill-color: #174EA6;\n",
              "      --disabled-fill-color: #AAA;\n",
              "      --disabled-bg-color: #DDD;\n",
              "  }\n",
              "\n",
              "  [theme=dark] .colab-df-quickchart {\n",
              "      --bg-color: #3B4455;\n",
              "      --fill-color: #D2E3FC;\n",
              "      --hover-bg-color: #434B5C;\n",
              "      --hover-fill-color: #FFFFFF;\n",
              "      --disabled-bg-color: #3B4455;\n",
              "      --disabled-fill-color: #666;\n",
              "  }\n",
              "\n",
              "  .colab-df-quickchart {\n",
              "    background-color: var(--bg-color);\n",
              "    border: none;\n",
              "    border-radius: 50%;\n",
              "    cursor: pointer;\n",
              "    display: none;\n",
              "    fill: var(--fill-color);\n",
              "    height: 32px;\n",
              "    padding: 0;\n",
              "    width: 32px;\n",
              "  }\n",
              "\n",
              "  .colab-df-quickchart:hover {\n",
              "    background-color: var(--hover-bg-color);\n",
              "    box-shadow: 0 1px 2px rgba(60, 64, 67, 0.3), 0 1px 3px 1px rgba(60, 64, 67, 0.15);\n",
              "    fill: var(--button-hover-fill-color);\n",
              "  }\n",
              "\n",
              "  .colab-df-quickchart-complete:disabled,\n",
              "  .colab-df-quickchart-complete:disabled:hover {\n",
              "    background-color: var(--disabled-bg-color);\n",
              "    fill: var(--disabled-fill-color);\n",
              "    box-shadow: none;\n",
              "  }\n",
              "\n",
              "  .colab-df-spinner {\n",
              "    border: 2px solid var(--fill-color);\n",
              "    border-color: transparent;\n",
              "    border-bottom-color: var(--fill-color);\n",
              "    animation:\n",
              "      spin 1s steps(1) infinite;\n",
              "  }\n",
              "\n",
              "  @keyframes spin {\n",
              "    0% {\n",
              "      border-color: transparent;\n",
              "      border-bottom-color: var(--fill-color);\n",
              "      border-left-color: var(--fill-color);\n",
              "    }\n",
              "    20% {\n",
              "      border-color: transparent;\n",
              "      border-left-color: var(--fill-color);\n",
              "      border-top-color: var(--fill-color);\n",
              "    }\n",
              "    30% {\n",
              "      border-color: transparent;\n",
              "      border-left-color: var(--fill-color);\n",
              "      border-top-color: var(--fill-color);\n",
              "      border-right-color: var(--fill-color);\n",
              "    }\n",
              "    40% {\n",
              "      border-color: transparent;\n",
              "      border-right-color: var(--fill-color);\n",
              "      border-top-color: var(--fill-color);\n",
              "    }\n",
              "    60% {\n",
              "      border-color: transparent;\n",
              "      border-right-color: var(--fill-color);\n",
              "    }\n",
              "    80% {\n",
              "      border-color: transparent;\n",
              "      border-right-color: var(--fill-color);\n",
              "      border-bottom-color: var(--fill-color);\n",
              "    }\n",
              "    90% {\n",
              "      border-color: transparent;\n",
              "      border-bottom-color: var(--fill-color);\n",
              "    }\n",
              "  }\n",
              "</style>\n",
              "\n",
              "  <script>\n",
              "    async function quickchart(key) {\n",
              "      const quickchartButtonEl =\n",
              "        document.querySelector('#' + key + ' button');\n",
              "      quickchartButtonEl.disabled = true;  // To prevent multiple clicks.\n",
              "      quickchartButtonEl.classList.add('colab-df-spinner');\n",
              "      try {\n",
              "        const charts = await google.colab.kernel.invokeFunction(\n",
              "            'suggestCharts', [key], {});\n",
              "      } catch (error) {\n",
              "        console.error('Error during call to suggestCharts:', error);\n",
              "      }\n",
              "      quickchartButtonEl.classList.remove('colab-df-spinner');\n",
              "      quickchartButtonEl.classList.add('colab-df-quickchart-complete');\n",
              "    }\n",
              "    (() => {\n",
              "      let quickchartButtonEl =\n",
              "        document.querySelector('#df-33a8ad7d-f2a6-4397-8639-f3461a825c80 button');\n",
              "      quickchartButtonEl.style.display =\n",
              "        google.colab.kernel.accessAllowed ? 'block' : 'none';\n",
              "    })();\n",
              "  </script>\n",
              "</div>\n",
              "\n",
              "    </div>\n",
              "  </div>\n"
            ],
            "application/vnd.google.colaboratory.intrinsic+json": {
              "type": "dataframe",
              "variable_name": "df_aligned",
              "summary": "{\n  \"name\": \"df_aligned\",\n  \"rows\": 13,\n  \"fields\": [\n    {\n      \"column\": \"AKAN\",\n      \"properties\": {\n        \"dtype\": \"string\",\n        \"num_unique_values\": 13,\n        \"samples\": [\n          \"Ene se nyansa obiara nyaa bie, na wo a wanko ho ntem no, ene (sebe) 'kwasea.\",\n          \"Oduruu dua no nkon, ose, \\\"Kwaku Ananse mawu Afio, me 'ba, kete, kete, kete, me, me wo ho yi, maboaboa nyansa nnyina ano, na se ebi aka na me ara manhu, na me 'ba, totofefewa, na wakyere me! \\\"\",\n          \"SE 'YOYE A NYANSA BA OMANM'\"\n        ],\n        \"semantic_type\": \"\",\n        \"description\": \"\"\n      }\n    },\n    {\n      \"column\": \"ENGLISH\",\n      \"properties\": {\n        \"dtype\": \"string\",\n        \"num_unique_values\": 13,\n        \"samples\": [\n          \"That is how every one got wisdom; and any one who did not go there in time (to pick some up) is-excuse my saying so-a fool.\",\n          \"He reached where the branches began to spread out from the stem, and he said (to himself), \\\" I, Kwaku Ananse, by the lesser god, Afio! I might as well be dead, my child who is so small, so small, so small there was I, I collected all wisdom (so I thought) in one place, yet some remained which even I did not perceive, and lo! my child, this still-sucking infant, has shown it me.\\\"\",\n          \"HOW IT CAME ABOUT THAT WISDOM CAME AMONG THE TRIBE\"\n        ],\n        \"semantic_type\": \"\",\n        \"description\": \"\"\n      }\n    }\n  ]\n}"
            }
          },
          "metadata": {},
          "execution_count": 10
        }
      ]
    },
    {
      "cell_type": "markdown",
      "source": [
        "## 8) Validate / Inspect\n",
        "Take a quick look at the first few lines of the DataFrame.\n",
        "Then you can open the Excel file to confirm the two columns look correct.\n"
      ],
      "metadata": {
        "id": "rtYyqEZn9U_g"
      }
    },
    {
      "cell_type": "code",
      "source": [
        "df_aligned.head(10)\n"
      ],
      "metadata": {
        "colab": {
          "base_uri": "https://localhost:8080/",
          "height": 363
        },
        "id": "2L36kd0Y9aEn",
        "outputId": "9e2728b1-d839-47b7-965a-5493fb3f3712"
      },
      "execution_count": null,
      "outputs": [
        {
          "output_type": "execute_result",
          "data": {
            "text/plain": [
              "                                                AKAN  \\\n",
              "0                        SE 'YOYE A NYANSA BA OMANM'   \n",
              "1  YE se Kwaku Ananse na owo ho, na oprapraa nyan...   \n",
              "2  Ose ode foro dua ako sen so, na nyansa nnyina ...   \n",
              "3  Na omaa so se ode koro, na oko duruu dua a, od...   \n",
              "4  Oforo, foro, foro a, twon ! Na ode aka no bio,...   \n",
              "5  Na ne ba, Ntikuma, gyina ho a, ose, \"E ! w'ani...   \n",
              "6  Ose, \"So ho ne wo mpan'insem.\" Na wasan aforo ...   \n",
              "7         Afei na ofwe ha, na ode toa no too n'akyi.   \n",
              "8  Afeidie ode kaa no, kra! kra ! kra ! ona okoro...   \n",
              "9  Oduruu dua no nkon, ose, \"Kwaku Ananse mawu Af...   \n",
              "\n",
              "                                             ENGLISH  \n",
              "0  HOW IT CAME ABOUT THAT WISDOM CAME AMONG THE T...  \n",
              "1  THEY say that Kwaku, the Spider, was there, an...  \n",
              "2  He then declared that he would climb a tree an...  \n",
              "3  So he took it up to go with it, and when he re...  \n",
              "4  He climbed, and climbed, and climbed; in vain....  \n",
              "5  Now, his son, Ntikuma, who was standing by, sa...  \n",
              "6  He (the Spider) said, \"Clear out, you and your...  \n",
              "7  Then he considered long, and (finally) took th...  \n",
              "8  Then he set himself to climb, and mounted swif...  \n",
              "9  He reached where the branches began to spread ...  "
            ],
            "text/html": [
              "\n",
              "  <div id=\"df-d9f05cf3-2525-4294-a8f7-5b53784f82f8\" class=\"colab-df-container\">\n",
              "    <div>\n",
              "<style scoped>\n",
              "    .dataframe tbody tr th:only-of-type {\n",
              "        vertical-align: middle;\n",
              "    }\n",
              "\n",
              "    .dataframe tbody tr th {\n",
              "        vertical-align: top;\n",
              "    }\n",
              "\n",
              "    .dataframe thead th {\n",
              "        text-align: right;\n",
              "    }\n",
              "</style>\n",
              "<table border=\"1\" class=\"dataframe\">\n",
              "  <thead>\n",
              "    <tr style=\"text-align: right;\">\n",
              "      <th></th>\n",
              "      <th>AKAN</th>\n",
              "      <th>ENGLISH</th>\n",
              "    </tr>\n",
              "  </thead>\n",
              "  <tbody>\n",
              "    <tr>\n",
              "      <th>0</th>\n",
              "      <td>SE 'YOYE A NYANSA BA OMANM'</td>\n",
              "      <td>HOW IT CAME ABOUT THAT WISDOM CAME AMONG THE T...</td>\n",
              "    </tr>\n",
              "    <tr>\n",
              "      <th>1</th>\n",
              "      <td>YE se Kwaku Ananse na owo ho, na oprapraa nyan...</td>\n",
              "      <td>THEY say that Kwaku, the Spider, was there, an...</td>\n",
              "    </tr>\n",
              "    <tr>\n",
              "      <th>2</th>\n",
              "      <td>Ose ode foro dua ako sen so, na nyansa nnyina ...</td>\n",
              "      <td>He then declared that he would climb a tree an...</td>\n",
              "    </tr>\n",
              "    <tr>\n",
              "      <th>3</th>\n",
              "      <td>Na omaa so se ode koro, na oko duruu dua a, od...</td>\n",
              "      <td>So he took it up to go with it, and when he re...</td>\n",
              "    </tr>\n",
              "    <tr>\n",
              "      <th>4</th>\n",
              "      <td>Oforo, foro, foro a, twon ! Na ode aka no bio,...</td>\n",
              "      <td>He climbed, and climbed, and climbed; in vain....</td>\n",
              "    </tr>\n",
              "    <tr>\n",
              "      <th>5</th>\n",
              "      <td>Na ne ba, Ntikuma, gyina ho a, ose, \"E ! w'ani...</td>\n",
              "      <td>Now, his son, Ntikuma, who was standing by, sa...</td>\n",
              "    </tr>\n",
              "    <tr>\n",
              "      <th>6</th>\n",
              "      <td>Ose, \"So ho ne wo mpan'insem.\" Na wasan aforo ...</td>\n",
              "      <td>He (the Spider) said, \"Clear out, you and your...</td>\n",
              "    </tr>\n",
              "    <tr>\n",
              "      <th>7</th>\n",
              "      <td>Afei na ofwe ha, na ode toa no too n'akyi.</td>\n",
              "      <td>Then he considered long, and (finally) took th...</td>\n",
              "    </tr>\n",
              "    <tr>\n",
              "      <th>8</th>\n",
              "      <td>Afeidie ode kaa no, kra! kra ! kra ! ona okoro...</td>\n",
              "      <td>Then he set himself to climb, and mounted swif...</td>\n",
              "    </tr>\n",
              "    <tr>\n",
              "      <th>9</th>\n",
              "      <td>Oduruu dua no nkon, ose, \"Kwaku Ananse mawu Af...</td>\n",
              "      <td>He reached where the branches began to spread ...</td>\n",
              "    </tr>\n",
              "  </tbody>\n",
              "</table>\n",
              "</div>\n",
              "    <div class=\"colab-df-buttons\">\n",
              "\n",
              "  <div class=\"colab-df-container\">\n",
              "    <button class=\"colab-df-convert\" onclick=\"convertToInteractive('df-d9f05cf3-2525-4294-a8f7-5b53784f82f8')\"\n",
              "            title=\"Convert this dataframe to an interactive table.\"\n",
              "            style=\"display:none;\">\n",
              "\n",
              "  <svg xmlns=\"http://www.w3.org/2000/svg\" height=\"24px\" viewBox=\"0 -960 960 960\">\n",
              "    <path d=\"M120-120v-720h720v720H120Zm60-500h600v-160H180v160Zm220 220h160v-160H400v160Zm0 220h160v-160H400v160ZM180-400h160v-160H180v160Zm440 0h160v-160H620v160ZM180-180h160v-160H180v160Zm440 0h160v-160H620v160Z\"/>\n",
              "  </svg>\n",
              "    </button>\n",
              "\n",
              "  <style>\n",
              "    .colab-df-container {\n",
              "      display:flex;\n",
              "      gap: 12px;\n",
              "    }\n",
              "\n",
              "    .colab-df-convert {\n",
              "      background-color: #E8F0FE;\n",
              "      border: none;\n",
              "      border-radius: 50%;\n",
              "      cursor: pointer;\n",
              "      display: none;\n",
              "      fill: #1967D2;\n",
              "      height: 32px;\n",
              "      padding: 0 0 0 0;\n",
              "      width: 32px;\n",
              "    }\n",
              "\n",
              "    .colab-df-convert:hover {\n",
              "      background-color: #E2EBFA;\n",
              "      box-shadow: 0px 1px 2px rgba(60, 64, 67, 0.3), 0px 1px 3px 1px rgba(60, 64, 67, 0.15);\n",
              "      fill: #174EA6;\n",
              "    }\n",
              "\n",
              "    .colab-df-buttons div {\n",
              "      margin-bottom: 4px;\n",
              "    }\n",
              "\n",
              "    [theme=dark] .colab-df-convert {\n",
              "      background-color: #3B4455;\n",
              "      fill: #D2E3FC;\n",
              "    }\n",
              "\n",
              "    [theme=dark] .colab-df-convert:hover {\n",
              "      background-color: #434B5C;\n",
              "      box-shadow: 0px 1px 3px 1px rgba(0, 0, 0, 0.15);\n",
              "      filter: drop-shadow(0px 1px 2px rgba(0, 0, 0, 0.3));\n",
              "      fill: #FFFFFF;\n",
              "    }\n",
              "  </style>\n",
              "\n",
              "    <script>\n",
              "      const buttonEl =\n",
              "        document.querySelector('#df-d9f05cf3-2525-4294-a8f7-5b53784f82f8 button.colab-df-convert');\n",
              "      buttonEl.style.display =\n",
              "        google.colab.kernel.accessAllowed ? 'block' : 'none';\n",
              "\n",
              "      async function convertToInteractive(key) {\n",
              "        const element = document.querySelector('#df-d9f05cf3-2525-4294-a8f7-5b53784f82f8');\n",
              "        const dataTable =\n",
              "          await google.colab.kernel.invokeFunction('convertToInteractive',\n",
              "                                                    [key], {});\n",
              "        if (!dataTable) return;\n",
              "\n",
              "        const docLinkHtml = 'Like what you see? Visit the ' +\n",
              "          '<a target=\"_blank\" href=https://colab.research.google.com/notebooks/data_table.ipynb>data table notebook</a>'\n",
              "          + ' to learn more about interactive tables.';\n",
              "        element.innerHTML = '';\n",
              "        dataTable['output_type'] = 'display_data';\n",
              "        await google.colab.output.renderOutput(dataTable, element);\n",
              "        const docLink = document.createElement('div');\n",
              "        docLink.innerHTML = docLinkHtml;\n",
              "        element.appendChild(docLink);\n",
              "      }\n",
              "    </script>\n",
              "  </div>\n",
              "\n",
              "\n",
              "<div id=\"df-00fc6380-3982-4f11-8732-4d8d914ec623\">\n",
              "  <button class=\"colab-df-quickchart\" onclick=\"quickchart('df-00fc6380-3982-4f11-8732-4d8d914ec623')\"\n",
              "            title=\"Suggest charts\"\n",
              "            style=\"display:none;\">\n",
              "\n",
              "<svg xmlns=\"http://www.w3.org/2000/svg\" height=\"24px\"viewBox=\"0 0 24 24\"\n",
              "     width=\"24px\">\n",
              "    <g>\n",
              "        <path d=\"M19 3H5c-1.1 0-2 .9-2 2v14c0 1.1.9 2 2 2h14c1.1 0 2-.9 2-2V5c0-1.1-.9-2-2-2zM9 17H7v-7h2v7zm4 0h-2V7h2v10zm4 0h-2v-4h2v4z\"/>\n",
              "    </g>\n",
              "</svg>\n",
              "  </button>\n",
              "\n",
              "<style>\n",
              "  .colab-df-quickchart {\n",
              "      --bg-color: #E8F0FE;\n",
              "      --fill-color: #1967D2;\n",
              "      --hover-bg-color: #E2EBFA;\n",
              "      --hover-fill-color: #174EA6;\n",
              "      --disabled-fill-color: #AAA;\n",
              "      --disabled-bg-color: #DDD;\n",
              "  }\n",
              "\n",
              "  [theme=dark] .colab-df-quickchart {\n",
              "      --bg-color: #3B4455;\n",
              "      --fill-color: #D2E3FC;\n",
              "      --hover-bg-color: #434B5C;\n",
              "      --hover-fill-color: #FFFFFF;\n",
              "      --disabled-bg-color: #3B4455;\n",
              "      --disabled-fill-color: #666;\n",
              "  }\n",
              "\n",
              "  .colab-df-quickchart {\n",
              "    background-color: var(--bg-color);\n",
              "    border: none;\n",
              "    border-radius: 50%;\n",
              "    cursor: pointer;\n",
              "    display: none;\n",
              "    fill: var(--fill-color);\n",
              "    height: 32px;\n",
              "    padding: 0;\n",
              "    width: 32px;\n",
              "  }\n",
              "\n",
              "  .colab-df-quickchart:hover {\n",
              "    background-color: var(--hover-bg-color);\n",
              "    box-shadow: 0 1px 2px rgba(60, 64, 67, 0.3), 0 1px 3px 1px rgba(60, 64, 67, 0.15);\n",
              "    fill: var(--button-hover-fill-color);\n",
              "  }\n",
              "\n",
              "  .colab-df-quickchart-complete:disabled,\n",
              "  .colab-df-quickchart-complete:disabled:hover {\n",
              "    background-color: var(--disabled-bg-color);\n",
              "    fill: var(--disabled-fill-color);\n",
              "    box-shadow: none;\n",
              "  }\n",
              "\n",
              "  .colab-df-spinner {\n",
              "    border: 2px solid var(--fill-color);\n",
              "    border-color: transparent;\n",
              "    border-bottom-color: var(--fill-color);\n",
              "    animation:\n",
              "      spin 1s steps(1) infinite;\n",
              "  }\n",
              "\n",
              "  @keyframes spin {\n",
              "    0% {\n",
              "      border-color: transparent;\n",
              "      border-bottom-color: var(--fill-color);\n",
              "      border-left-color: var(--fill-color);\n",
              "    }\n",
              "    20% {\n",
              "      border-color: transparent;\n",
              "      border-left-color: var(--fill-color);\n",
              "      border-top-color: var(--fill-color);\n",
              "    }\n",
              "    30% {\n",
              "      border-color: transparent;\n",
              "      border-left-color: var(--fill-color);\n",
              "      border-top-color: var(--fill-color);\n",
              "      border-right-color: var(--fill-color);\n",
              "    }\n",
              "    40% {\n",
              "      border-color: transparent;\n",
              "      border-right-color: var(--fill-color);\n",
              "      border-top-color: var(--fill-color);\n",
              "    }\n",
              "    60% {\n",
              "      border-color: transparent;\n",
              "      border-right-color: var(--fill-color);\n",
              "    }\n",
              "    80% {\n",
              "      border-color: transparent;\n",
              "      border-right-color: var(--fill-color);\n",
              "      border-bottom-color: var(--fill-color);\n",
              "    }\n",
              "    90% {\n",
              "      border-color: transparent;\n",
              "      border-bottom-color: var(--fill-color);\n",
              "    }\n",
              "  }\n",
              "</style>\n",
              "\n",
              "  <script>\n",
              "    async function quickchart(key) {\n",
              "      const quickchartButtonEl =\n",
              "        document.querySelector('#' + key + ' button');\n",
              "      quickchartButtonEl.disabled = true;  // To prevent multiple clicks.\n",
              "      quickchartButtonEl.classList.add('colab-df-spinner');\n",
              "      try {\n",
              "        const charts = await google.colab.kernel.invokeFunction(\n",
              "            'suggestCharts', [key], {});\n",
              "      } catch (error) {\n",
              "        console.error('Error during call to suggestCharts:', error);\n",
              "      }\n",
              "      quickchartButtonEl.classList.remove('colab-df-spinner');\n",
              "      quickchartButtonEl.classList.add('colab-df-quickchart-complete');\n",
              "    }\n",
              "    (() => {\n",
              "      let quickchartButtonEl =\n",
              "        document.querySelector('#df-00fc6380-3982-4f11-8732-4d8d914ec623 button');\n",
              "      quickchartButtonEl.style.display =\n",
              "        google.colab.kernel.accessAllowed ? 'block' : 'none';\n",
              "    })();\n",
              "  </script>\n",
              "</div>\n",
              "\n",
              "    </div>\n",
              "  </div>\n"
            ],
            "application/vnd.google.colaboratory.intrinsic+json": {
              "type": "dataframe",
              "variable_name": "df_aligned",
              "summary": "{\n  \"name\": \"df_aligned\",\n  \"rows\": 13,\n  \"fields\": [\n    {\n      \"column\": \"AKAN\",\n      \"properties\": {\n        \"dtype\": \"string\",\n        \"num_unique_values\": 13,\n        \"samples\": [\n          \"Ene se nyansa obiara nyaa bie, na wo a wanko ho ntem no, ene (sebe) 'kwasea.\",\n          \"Oduruu dua no nkon, ose, \\\"Kwaku Ananse mawu Afio, me 'ba, kete, kete, kete, me, me wo ho yi, maboaboa nyansa nnyina ano, na se ebi aka na me ara manhu, na me 'ba, totofefewa, na wakyere me! \\\"\",\n          \"SE 'YOYE A NYANSA BA OMANM'\"\n        ],\n        \"semantic_type\": \"\",\n        \"description\": \"\"\n      }\n    },\n    {\n      \"column\": \"ENGLISH\",\n      \"properties\": {\n        \"dtype\": \"string\",\n        \"num_unique_values\": 13,\n        \"samples\": [\n          \"That is how every one got wisdom; and any one who did not go there in time (to pick some up) is-excuse my saying so-a fool.\",\n          \"He reached where the branches began to spread out from the stem, and he said (to himself), \\\" I, Kwaku Ananse, by the lesser god, Afio! I might as well be dead, my child who is so small, so small, so small there was I, I collected all wisdom (so I thought) in one place, yet some remained which even I did not perceive, and lo! my child, this still-sucking infant, has shown it me.\\\"\",\n          \"HOW IT CAME ABOUT THAT WISDOM CAME AMONG THE TRIBE\"\n        ],\n        \"semantic_type\": \"\",\n        \"description\": \"\"\n      }\n    }\n  ]\n}"
            }
          },
          "metadata": {},
          "execution_count": 11
        }
      ]
    },
    {
      "cell_type": "markdown",
      "source": [
        "## 9) (Optional) Manual Review and Edits\n",
        "Although GPT tries to segment and align accurately, you should still review the lines to ensure fidelity:\n",
        "- Check for any major mismatches.\n",
        "- Possibly adjust alignment for best readability or exactness.\n"
      ],
      "metadata": {
        "id": "FdJTo3TS9dhe"
      }
    },
    {
      "cell_type": "markdown",
      "source": [
        "\n",
        "\n",
        "### Notes & Tips\n",
        "\n",
        "1. **Prompt Size & Token Limits**  \n",
        "   - If your source texts are very large, you may exceed GPT’s context window. In that case, break each text into smaller chunks (paragraphs, pages) and align them incrementally.\n",
        "\n",
        "2. **Alignment Accuracy**  \n",
        "   - GPT can make mistakes aligning sentences, especially if the English translation condenses or expands certain phrases. Expect some manual cleanup.\n",
        "\n",
        "3. **Alternative Approaches**  \n",
        "   - You could use **NLTK** or **spaCy** to do sentence tokenization separately in Akan and English, then use **sentence embedding alignment** (e.g., with **sBERT**) to automatically find best pairs. This can be more robust for large texts.\n",
        "\n",
        "4. **Post‐Processing**  \n",
        "   - After alignment, you might want to feed each pair back into GPT for more advanced transformations (literal vs. faithful translations, footnotes, etc.).\n",
        "\n",
        "By following this approach, you’ll get a **2‐column Excel** with your best guess at sentence alignment from an AI perspective—**all in one notebook**. Then you can integrate this with your subsequent pipeline (e.g., comparing GPT‐4 vs. GPT‐3.5 translations, generating dictionary lookups, etc.)."
      ],
      "metadata": {
        "id": "_ye8K3yN9q_j"
      }
    }
  ]
}
